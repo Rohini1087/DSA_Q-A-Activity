{
 "cells": [
  {
   "cell_type": "code",
   "execution_count": 15,
   "id": "e0897360",
   "metadata": {},
   "outputs": [],
   "source": [
    "import numpy as np\n",
    "import pandas as pd\n",
    "import seaborn as sns\n",
    "import matplotlib.pyplot as plt\n",
    "import warnings\n",
    "warnings.filterwarnings('ignore')"
   ]
  },
  {
   "cell_type": "code",
   "execution_count": 16,
   "id": "463f7e62",
   "metadata": {},
   "outputs": [
    {
     "data": {
      "text/html": [
       "<div>\n",
       "<style scoped>\n",
       "    .dataframe tbody tr th:only-of-type {\n",
       "        vertical-align: middle;\n",
       "    }\n",
       "\n",
       "    .dataframe tbody tr th {\n",
       "        vertical-align: top;\n",
       "    }\n",
       "\n",
       "    .dataframe thead th {\n",
       "        text-align: right;\n",
       "    }\n",
       "</style>\n",
       "<table border=\"1\" class=\"dataframe\">\n",
       "  <thead>\n",
       "    <tr style=\"text-align: right;\">\n",
       "      <th></th>\n",
       "      <th>country</th>\n",
       "      <th>child_mort</th>\n",
       "      <th>exports</th>\n",
       "      <th>health</th>\n",
       "      <th>imports</th>\n",
       "      <th>income</th>\n",
       "      <th>inflation</th>\n",
       "      <th>life_expec</th>\n",
       "      <th>total_fer</th>\n",
       "      <th>gdpp</th>\n",
       "    </tr>\n",
       "  </thead>\n",
       "  <tbody>\n",
       "    <tr>\n",
       "      <th>0</th>\n",
       "      <td>Afghanistan</td>\n",
       "      <td>90.2</td>\n",
       "      <td>10.0</td>\n",
       "      <td>7.58</td>\n",
       "      <td>44.9</td>\n",
       "      <td>1610</td>\n",
       "      <td>9.44</td>\n",
       "      <td>56.2</td>\n",
       "      <td>5.82</td>\n",
       "      <td>553</td>\n",
       "    </tr>\n",
       "    <tr>\n",
       "      <th>1</th>\n",
       "      <td>Albania</td>\n",
       "      <td>16.6</td>\n",
       "      <td>28.0</td>\n",
       "      <td>6.55</td>\n",
       "      <td>48.6</td>\n",
       "      <td>9930</td>\n",
       "      <td>4.49</td>\n",
       "      <td>76.3</td>\n",
       "      <td>1.65</td>\n",
       "      <td>4090</td>\n",
       "    </tr>\n",
       "    <tr>\n",
       "      <th>2</th>\n",
       "      <td>Algeria</td>\n",
       "      <td>27.3</td>\n",
       "      <td>38.4</td>\n",
       "      <td>4.17</td>\n",
       "      <td>31.4</td>\n",
       "      <td>12900</td>\n",
       "      <td>16.10</td>\n",
       "      <td>76.5</td>\n",
       "      <td>2.89</td>\n",
       "      <td>4460</td>\n",
       "    </tr>\n",
       "    <tr>\n",
       "      <th>3</th>\n",
       "      <td>Angola</td>\n",
       "      <td>119.0</td>\n",
       "      <td>62.3</td>\n",
       "      <td>2.85</td>\n",
       "      <td>42.9</td>\n",
       "      <td>5900</td>\n",
       "      <td>22.40</td>\n",
       "      <td>60.1</td>\n",
       "      <td>6.16</td>\n",
       "      <td>3530</td>\n",
       "    </tr>\n",
       "    <tr>\n",
       "      <th>4</th>\n",
       "      <td>Antigua and Barbuda</td>\n",
       "      <td>10.3</td>\n",
       "      <td>45.5</td>\n",
       "      <td>6.03</td>\n",
       "      <td>58.9</td>\n",
       "      <td>19100</td>\n",
       "      <td>1.44</td>\n",
       "      <td>76.8</td>\n",
       "      <td>2.13</td>\n",
       "      <td>12200</td>\n",
       "    </tr>\n",
       "  </tbody>\n",
       "</table>\n",
       "</div>"
      ],
      "text/plain": [
       "               country  child_mort  exports  health  imports  income  \\\n",
       "0          Afghanistan        90.2     10.0    7.58     44.9    1610   \n",
       "1              Albania        16.6     28.0    6.55     48.6    9930   \n",
       "2              Algeria        27.3     38.4    4.17     31.4   12900   \n",
       "3               Angola       119.0     62.3    2.85     42.9    5900   \n",
       "4  Antigua and Barbuda        10.3     45.5    6.03     58.9   19100   \n",
       "\n",
       "   inflation  life_expec  total_fer   gdpp  \n",
       "0       9.44        56.2       5.82    553  \n",
       "1       4.49        76.3       1.65   4090  \n",
       "2      16.10        76.5       2.89   4460  \n",
       "3      22.40        60.1       6.16   3530  \n",
       "4       1.44        76.8       2.13  12200  "
      ]
     },
     "execution_count": 16,
     "metadata": {},
     "output_type": "execute_result"
    }
   ],
   "source": [
    "data = pd.read_csv('Country-data.csv')\n",
    "data.head()"
   ]
  },
  {
   "cell_type": "code",
   "execution_count": 17,
   "id": "35d78fa7",
   "metadata": {},
   "outputs": [
    {
     "data": {
      "text/plain": [
       "(167, 10)"
      ]
     },
     "execution_count": 17,
     "metadata": {},
     "output_type": "execute_result"
    }
   ],
   "source": [
    "data.shape"
   ]
  },
  {
   "cell_type": "code",
   "execution_count": 29,
   "id": "4f463967",
   "metadata": {},
   "outputs": [
    {
     "name": "stdout",
     "output_type": "stream",
     "text": [
      "<class 'pandas.core.frame.DataFrame'>\n",
      "RangeIndex: 167 entries, 0 to 166\n",
      "Data columns (total 10 columns):\n",
      " #   Column      Non-Null Count  Dtype  \n",
      "---  ------      --------------  -----  \n",
      " 0   country     167 non-null    object \n",
      " 1   child_mort  167 non-null    float64\n",
      " 2   exports     167 non-null    float64\n",
      " 3   health      167 non-null    float64\n",
      " 4   imports     167 non-null    float64\n",
      " 5   income      167 non-null    int64  \n",
      " 6   inflation   167 non-null    float64\n",
      " 7   life_expec  167 non-null    float64\n",
      " 8   total_fer   167 non-null    float64\n",
      " 9   gdpp        167 non-null    int64  \n",
      "dtypes: float64(7), int64(2), object(1)\n",
      "memory usage: 13.2+ KB\n"
     ]
    }
   ],
   "source": [
    "data.info()"
   ]
  },
  {
   "cell_type": "code",
   "execution_count": 28,
   "id": "33f7b9bb",
   "metadata": {},
   "outputs": [
    {
     "data": {
      "text/plain": [
       "country       0\n",
       "child_mort    0\n",
       "exports       0\n",
       "health        0\n",
       "imports       0\n",
       "income        0\n",
       "inflation     0\n",
       "life_expec    0\n",
       "total_fer     0\n",
       "gdpp          0\n",
       "dtype: int64"
      ]
     },
     "execution_count": 28,
     "metadata": {},
     "output_type": "execute_result"
    }
   ],
   "source": [
    "data.isna().sum()"
   ]
  },
  {
   "cell_type": "code",
   "execution_count": 18,
   "id": "e81afc6d",
   "metadata": {},
   "outputs": [
    {
     "data": {
      "text/html": [
       "<div>\n",
       "<style scoped>\n",
       "    .dataframe tbody tr th:only-of-type {\n",
       "        vertical-align: middle;\n",
       "    }\n",
       "\n",
       "    .dataframe tbody tr th {\n",
       "        vertical-align: top;\n",
       "    }\n",
       "\n",
       "    .dataframe thead th {\n",
       "        text-align: right;\n",
       "    }\n",
       "</style>\n",
       "<table border=\"1\" class=\"dataframe\">\n",
       "  <thead>\n",
       "    <tr style=\"text-align: right;\">\n",
       "      <th></th>\n",
       "      <th>child_mort</th>\n",
       "      <th>exports</th>\n",
       "      <th>health</th>\n",
       "      <th>imports</th>\n",
       "      <th>income</th>\n",
       "      <th>inflation</th>\n",
       "      <th>life_expec</th>\n",
       "      <th>total_fer</th>\n",
       "      <th>gdpp</th>\n",
       "    </tr>\n",
       "  </thead>\n",
       "  <tbody>\n",
       "    <tr>\n",
       "      <th>count</th>\n",
       "      <td>167.000000</td>\n",
       "      <td>167.000000</td>\n",
       "      <td>167.000000</td>\n",
       "      <td>167.000000</td>\n",
       "      <td>167.000000</td>\n",
       "      <td>167.000000</td>\n",
       "      <td>167.000000</td>\n",
       "      <td>167.000000</td>\n",
       "      <td>167.000000</td>\n",
       "    </tr>\n",
       "    <tr>\n",
       "      <th>mean</th>\n",
       "      <td>38.270060</td>\n",
       "      <td>41.108976</td>\n",
       "      <td>6.815689</td>\n",
       "      <td>46.890215</td>\n",
       "      <td>17144.688623</td>\n",
       "      <td>7.781832</td>\n",
       "      <td>70.555689</td>\n",
       "      <td>2.947964</td>\n",
       "      <td>12964.155689</td>\n",
       "    </tr>\n",
       "    <tr>\n",
       "      <th>std</th>\n",
       "      <td>40.328931</td>\n",
       "      <td>27.412010</td>\n",
       "      <td>2.746837</td>\n",
       "      <td>24.209589</td>\n",
       "      <td>19278.067698</td>\n",
       "      <td>10.570704</td>\n",
       "      <td>8.893172</td>\n",
       "      <td>1.513848</td>\n",
       "      <td>18328.704809</td>\n",
       "    </tr>\n",
       "    <tr>\n",
       "      <th>min</th>\n",
       "      <td>2.600000</td>\n",
       "      <td>0.109000</td>\n",
       "      <td>1.810000</td>\n",
       "      <td>0.065900</td>\n",
       "      <td>609.000000</td>\n",
       "      <td>-4.210000</td>\n",
       "      <td>32.100000</td>\n",
       "      <td>1.150000</td>\n",
       "      <td>231.000000</td>\n",
       "    </tr>\n",
       "    <tr>\n",
       "      <th>25%</th>\n",
       "      <td>8.250000</td>\n",
       "      <td>23.800000</td>\n",
       "      <td>4.920000</td>\n",
       "      <td>30.200000</td>\n",
       "      <td>3355.000000</td>\n",
       "      <td>1.810000</td>\n",
       "      <td>65.300000</td>\n",
       "      <td>1.795000</td>\n",
       "      <td>1330.000000</td>\n",
       "    </tr>\n",
       "    <tr>\n",
       "      <th>50%</th>\n",
       "      <td>19.300000</td>\n",
       "      <td>35.000000</td>\n",
       "      <td>6.320000</td>\n",
       "      <td>43.300000</td>\n",
       "      <td>9960.000000</td>\n",
       "      <td>5.390000</td>\n",
       "      <td>73.100000</td>\n",
       "      <td>2.410000</td>\n",
       "      <td>4660.000000</td>\n",
       "    </tr>\n",
       "    <tr>\n",
       "      <th>75%</th>\n",
       "      <td>62.100000</td>\n",
       "      <td>51.350000</td>\n",
       "      <td>8.600000</td>\n",
       "      <td>58.750000</td>\n",
       "      <td>22800.000000</td>\n",
       "      <td>10.750000</td>\n",
       "      <td>76.800000</td>\n",
       "      <td>3.880000</td>\n",
       "      <td>14050.000000</td>\n",
       "    </tr>\n",
       "    <tr>\n",
       "      <th>max</th>\n",
       "      <td>208.000000</td>\n",
       "      <td>200.000000</td>\n",
       "      <td>17.900000</td>\n",
       "      <td>174.000000</td>\n",
       "      <td>125000.000000</td>\n",
       "      <td>104.000000</td>\n",
       "      <td>82.800000</td>\n",
       "      <td>7.490000</td>\n",
       "      <td>105000.000000</td>\n",
       "    </tr>\n",
       "  </tbody>\n",
       "</table>\n",
       "</div>"
      ],
      "text/plain": [
       "       child_mort     exports      health     imports         income  \\\n",
       "count  167.000000  167.000000  167.000000  167.000000     167.000000   \n",
       "mean    38.270060   41.108976    6.815689   46.890215   17144.688623   \n",
       "std     40.328931   27.412010    2.746837   24.209589   19278.067698   \n",
       "min      2.600000    0.109000    1.810000    0.065900     609.000000   \n",
       "25%      8.250000   23.800000    4.920000   30.200000    3355.000000   \n",
       "50%     19.300000   35.000000    6.320000   43.300000    9960.000000   \n",
       "75%     62.100000   51.350000    8.600000   58.750000   22800.000000   \n",
       "max    208.000000  200.000000   17.900000  174.000000  125000.000000   \n",
       "\n",
       "        inflation  life_expec   total_fer           gdpp  \n",
       "count  167.000000  167.000000  167.000000     167.000000  \n",
       "mean     7.781832   70.555689    2.947964   12964.155689  \n",
       "std     10.570704    8.893172    1.513848   18328.704809  \n",
       "min     -4.210000   32.100000    1.150000     231.000000  \n",
       "25%      1.810000   65.300000    1.795000    1330.000000  \n",
       "50%      5.390000   73.100000    2.410000    4660.000000  \n",
       "75%     10.750000   76.800000    3.880000   14050.000000  \n",
       "max    104.000000   82.800000    7.490000  105000.000000  "
      ]
     },
     "execution_count": 18,
     "metadata": {},
     "output_type": "execute_result"
    }
   ],
   "source": [
    "data.describe()"
   ]
  },
  {
   "cell_type": "code",
   "execution_count": 19,
   "id": "fd36864e",
   "metadata": {},
   "outputs": [
    {
     "data": {
      "text/plain": [
       "<AxesSubplot:>"
      ]
     },
     "execution_count": 19,
     "metadata": {},
     "output_type": "execute_result"
    },
    {
     "data": {
      "image/png": "[encoded data removed]",
      "text/plain": [
       "<Figure size 720x504 with 2 Axes>"
      ]
     },
     "metadata": {
      "needs_background": "light"
     },
     "output_type": "display_data"
    }
   ],
   "source": [
    "corr_matrix = data.corr()\n",
    "plt.figure(figsize = (10,7))\n",
    "sns.heatmap(corr_matrix, annot = True)       \n",
    "\n",
    "\n"
   ]
  },
  {
   "cell_type": "markdown",
   "id": "b6a6e8a3",
   "metadata": {},
   "source": [
    "Some variables are highly correlated.We can solve this issue by PCA"
   ]
  },
  {
   "cell_type": "markdown",
   "id": "b595a1a0",
   "metadata": {},
   "source": [
    "# Outlier Analysis\n",
    "Plotting boxplots to see how values in each columns are distributed"
   ]
  },
  {
   "cell_type": "code",
   "execution_count": 30,
   "id": "49c64186",
   "metadata": {},
   "outputs": [
    {
     "data": {
      "text/plain": [
       "Index(['country', 'child_mort', 'exports', 'health', 'imports', 'income',\n",
       "       'inflation', 'life_expec', 'total_fer', 'gdpp'],\n",
       "      dtype='object')"
      ]
     },
     "execution_count": 30,
     "metadata": {},
     "output_type": "execute_result"
    }
   ],
   "source": [
    "data.columns"
   ]
  },
  {
   "cell_type": "code",
   "execution_count": 20,
   "id": "190acc0c",
   "metadata": {},
   "outputs": [
    {
     "data": {
      "image/png": "[encoded data removed]",
      "text/plain": [
       "<Figure size 1080x720 with 9 Axes>"
      ]
     },
     "metadata": {
      "needs_background": "light"
     },
     "output_type": "display_data"
    }
   ],
   "source": [
    "fig, ax = plt.subplots(3, 3, figsize = (15,10))\n",
    "\n",
    "plt1 = sns.boxplot(data['child_mort'], ax = ax[0,0])\n",
    "plt2 = sns.boxplot(data['exports'], ax = ax[0,1])\n",
    "plt3 = sns.boxplot(data['imports'], ax = ax[0,2])\n",
    "plt4 = sns.boxplot(data['health'], ax = ax[1,0])\n",
    "plt5 = sns.boxplot(data['income'], ax = ax[1,1])\n",
    "plt6 = sns.boxplot(data['inflation'], ax = ax[1,2])\n",
    "plt7 = sns.boxplot(data['life_expec'], ax = ax[2,0])\n",
    "plt8 = sns.boxplot(data['total_fer'], ax = ax[2,1])\n",
    "plt9 = sns.boxplot(data['gdpp'], ax = ax[2,2])\n",
    "\n",
    "plt.tight_layout()\n"
   ]
  },
  {
   "cell_type": "code",
   "execution_count": 21,
   "id": "bc6c71a2",
   "metadata": {},
   "outputs": [],
   "source": [
    "data1 = data.copy()"
   ]
  },
  {
   "cell_type": "markdown",
   "id": "ffaf7f80",
   "metadata": {},
   "source": [
    "There are a number of outliers in the data\n",
    "\n",
    "Keeping in mind we need to identify backward countries based on socio economic and health factors, we will cap the outliers to values accordingly for analysis"
   ]
  },
  {
   "cell_type": "code",
   "execution_count": 22,
   "id": "10666844",
   "metadata": {},
   "outputs": [],
   "source": [
    "def outlier_replace(data, var):\n",
    "    percentiles = data[var].quantile([0.05, 0.95]).values\n",
    "    data[var][data[var] <= percentiles[0]] = percentiles[0]\n",
    "    data[var][data[var] >= percentiles[1]] = percentiles[1]"
   ]
  },
  {
   "cell_type": "code",
   "execution_count": 23,
   "id": "bd28b3dd",
   "metadata": {},
   "outputs": [],
   "source": [
    "for x in data1.drop(['country'], axis = 1).columns:\n",
    "    outlier_replace(data1, x)"
   ]
  },
  {
   "cell_type": "code",
   "execution_count": 24,
   "id": "8843687f",
   "metadata": {},
   "outputs": [
    {
     "data": {
      "image/png": "[encoded data removed]",
      "text/plain": [
       "<Figure size 1080x720 with 9 Axes>"
      ]
     },
     "metadata": {
      "needs_background": "light"
     },
     "output_type": "display_data"
    }
   ],
   "source": [
    "fig, ax = plt.subplots(3, 3, figsize = (15,10))\n",
    "\n",
    "plt1 = sns.boxplot(data1['child_mort'], ax = ax[0,0])\n",
    "plt2 = sns.boxplot(data1['exports'], ax = ax[0,1])\n",
    "plt3 = sns.boxplot(data1['imports'], ax = ax[0,2])\n",
    "plt4 = sns.boxplot(data1['health'], ax = ax[1,0])\n",
    "plt5 = sns.boxplot(data1['income'], ax = ax[1,1])\n",
    "plt6 = sns.boxplot(data1['inflation'], ax = ax[1,2])\n",
    "plt7 = sns.boxplot(data1['life_expec'], ax = ax[2,0])\n",
    "plt8 = sns.boxplot(data1['total_fer'], ax = ax[2,1])\n",
    "plt9 = sns.boxplot(data1['gdpp'], ax = ax[2,2])\n",
    "\n",
    "plt.tight_layout()\n"
   ]
  },
  {
   "cell_type": "markdown",
   "id": "0ed7e56e",
   "metadata": {},
   "source": [
    "# Normalizing the Data\n"
   ]
  },
  {
   "cell_type": "code",
   "execution_count": 25,
   "id": "c29a8be0",
   "metadata": {},
   "outputs": [],
   "source": [
    "from sklearn.preprocessing import Normalizer\n",
    "\n",
    "norm = Normalizer()\n",
    "var = data1.drop(['country'], axis = 1).columns\n",
    "data1[var] = norm.fit_transform(data1[var])"
   ]
  },
  {
   "cell_type": "code",
   "execution_count": 31,
   "id": "3ae96956",
   "metadata": {},
   "outputs": [
    {
     "data": {
      "text/html": [
       "<div>\n",
       "<style scoped>\n",
       "    .dataframe tbody tr th:only-of-type {\n",
       "        vertical-align: middle;\n",
       "    }\n",
       "\n",
       "    .dataframe tbody tr th {\n",
       "        vertical-align: top;\n",
       "    }\n",
       "\n",
       "    .dataframe thead th {\n",
       "        text-align: right;\n",
       "    }\n",
       "</style>\n",
       "<table border=\"1\" class=\"dataframe\">\n",
       "  <thead>\n",
       "    <tr style=\"text-align: right;\">\n",
       "      <th></th>\n",
       "      <th>child_mort</th>\n",
       "      <th>exports</th>\n",
       "      <th>health</th>\n",
       "      <th>imports</th>\n",
       "      <th>income</th>\n",
       "      <th>inflation</th>\n",
       "      <th>life_expec</th>\n",
       "      <th>total_fer</th>\n",
       "      <th>gdpp</th>\n",
       "    </tr>\n",
       "  </thead>\n",
       "  <tbody>\n",
       "    <tr>\n",
       "      <th>count</th>\n",
       "      <td>167.000000</td>\n",
       "      <td>167.000000</td>\n",
       "      <td>167.000000</td>\n",
       "      <td>167.000000</td>\n",
       "      <td>167.000000</td>\n",
       "      <td>167.000000</td>\n",
       "      <td>167.000000</td>\n",
       "      <td>167.000000</td>\n",
       "      <td>167.000000</td>\n",
       "    </tr>\n",
       "    <tr>\n",
       "      <th>mean</th>\n",
       "      <td>0.013500</td>\n",
       "      <td>0.005433</td>\n",
       "      <td>0.001247</td>\n",
       "      <td>0.008541</td>\n",
       "      <td>0.857650</td>\n",
       "      <td>0.001541</td>\n",
       "      <td>0.012040</td>\n",
       "      <td>0.000805</td>\n",
       "      <td>0.481885</td>\n",
       "    </tr>\n",
       "    <tr>\n",
       "      <th>std</th>\n",
       "      <td>0.023074</td>\n",
       "      <td>0.005813</td>\n",
       "      <td>0.001745</td>\n",
       "      <td>0.010876</td>\n",
       "      <td>0.097213</td>\n",
       "      <td>0.002498</td>\n",
       "      <td>0.013042</td>\n",
       "      <td>0.001211</td>\n",
       "      <td>0.147187</td>\n",
       "    </tr>\n",
       "    <tr>\n",
       "      <th>min</th>\n",
       "      <td>0.000050</td>\n",
       "      <td>0.000181</td>\n",
       "      <td>0.000041</td>\n",
       "      <td>0.000265</td>\n",
       "      <td>0.456923</td>\n",
       "      <td>0.000003</td>\n",
       "      <td>0.001151</td>\n",
       "      <td>0.000021</td>\n",
       "      <td>0.236038</td>\n",
       "    </tr>\n",
       "    <tr>\n",
       "      <th>25%</th>\n",
       "      <td>0.000285</td>\n",
       "      <td>0.001424</td>\n",
       "      <td>0.000229</td>\n",
       "      <td>0.001232</td>\n",
       "      <td>0.811939</td>\n",
       "      <td>0.000088</td>\n",
       "      <td>0.002767</td>\n",
       "      <td>0.000063</td>\n",
       "      <td>0.360926</td>\n",
       "    </tr>\n",
       "    <tr>\n",
       "      <th>50%</th>\n",
       "      <td>0.002000</td>\n",
       "      <td>0.002995</td>\n",
       "      <td>0.000519</td>\n",
       "      <td>0.003731</td>\n",
       "      <td>0.896065</td>\n",
       "      <td>0.000515</td>\n",
       "      <td>0.006146</td>\n",
       "      <td>0.000195</td>\n",
       "      <td>0.441402</td>\n",
       "    </tr>\n",
       "    <tr>\n",
       "      <th>75%</th>\n",
       "      <td>0.016765</td>\n",
       "      <td>0.007129</td>\n",
       "      <td>0.001419</td>\n",
       "      <td>0.011165</td>\n",
       "      <td>0.928843</td>\n",
       "      <td>0.001888</td>\n",
       "      <td>0.016035</td>\n",
       "      <td>0.000956</td>\n",
       "      <td>0.583190</td>\n",
       "    </tr>\n",
       "    <tr>\n",
       "      <th>max</th>\n",
       "      <td>0.088814</td>\n",
       "      <td>0.031431</td>\n",
       "      <td>0.008867</td>\n",
       "      <td>0.062099</td>\n",
       "      <td>0.971387</td>\n",
       "      <td>0.015907</td>\n",
       "      <td>0.046532</td>\n",
       "      <td>0.004492</td>\n",
       "      <td>0.889148</td>\n",
       "    </tr>\n",
       "  </tbody>\n",
       "</table>\n",
       "</div>"
      ],
      "text/plain": [
       "       child_mort     exports      health     imports      income   inflation  \\\n",
       "count  167.000000  167.000000  167.000000  167.000000  167.000000  167.000000   \n",
       "mean     0.013500    0.005433    0.001247    0.008541    0.857650    0.001541   \n",
       "std      0.023074    0.005813    0.001745    0.010876    0.097213    0.002498   \n",
       "min      0.000050    0.000181    0.000041    0.000265    0.456923    0.000003   \n",
       "25%      0.000285    0.001424    0.000229    0.001232    0.811939    0.000088   \n",
       "50%      0.002000    0.002995    0.000519    0.003731    0.896065    0.000515   \n",
       "75%      0.016765    0.007129    0.001419    0.011165    0.928843    0.001888   \n",
       "max      0.088814    0.031431    0.008867    0.062099    0.971387    0.015907   \n",
       "\n",
       "       life_expec   total_fer        gdpp  \n",
       "count  167.000000  167.000000  167.000000  \n",
       "mean     0.012040    0.000805    0.481885  \n",
       "std      0.013042    0.001211    0.147187  \n",
       "min      0.001151    0.000021    0.236038  \n",
       "25%      0.002767    0.000063    0.360926  \n",
       "50%      0.006146    0.000195    0.441402  \n",
       "75%      0.016035    0.000956    0.583190  \n",
       "max      0.046532    0.004492    0.889148  "
      ]
     },
     "execution_count": 31,
     "metadata": {},
     "output_type": "execute_result"
    }
   ],
   "source": [
    "data1.describe()"
   ]
  },
  {
   "cell_type": "markdown",
   "id": "a26fb6ee",
   "metadata": {},
   "source": [
    "# PCA on the data"
   ]
  },
  {
   "cell_type": "code",
   "execution_count": 32,
   "id": "eb00a0d1",
   "metadata": {},
   "outputs": [],
   "source": [
    "from sklearn.decomposition import PCA\n",
    "\n",
    "pca = PCA(svd_solver = 'randomized', random_state = 42)"
   ]
  },
  {
   "cell_type": "markdown",
   "id": "744fc8b6",
   "metadata": {},
   "source": [
    "Putting feature variable to x and response variable to y"
   ]
  },
  {
   "cell_type": "code",
   "execution_count": 33,
   "id": "b9dcad0a",
   "metadata": {},
   "outputs": [],
   "source": [
    "x = data1.drop(['country'], axis = 1)\n",
    "y = data1['country']"
   ]
  },
  {
   "cell_type": "code",
   "execution_count": 34,
   "id": "bd8adecc",
   "metadata": {},
   "outputs": [
    {
     "data": {
      "text/plain": [
       "PCA(random_state=42, svd_solver='randomized')"
      ]
     },
     "execution_count": 34,
     "metadata": {},
     "output_type": "execute_result"
    }
   ],
   "source": [
    "pca.fit(x)"
   ]
  },
  {
   "cell_type": "code",
   "execution_count": 35,
   "id": "67677faa",
   "metadata": {},
   "outputs": [
    {
     "data": {
      "text/plain": [
       "array([[-5.13674292e-02, -1.51076059e-02, -3.47809193e-03,\n",
       "        -2.43667162e-02, -5.46532083e-01, -5.62510357e-03,\n",
       "        -3.66844394e-02, -2.75782823e-03,  8.34532803e-01],\n",
       "       [ 7.93393447e-01,  1.50010028e-01,  5.41352722e-02,\n",
       "         3.30294396e-01, -2.29013940e-01,  6.06683525e-02,\n",
       "         4.16316612e-01,  4.11234491e-02, -6.97145700e-02],\n",
       "       [-2.06736211e-01, -4.65004460e-02, -1.28628718e-02,\n",
       "        -1.04551660e-01, -8.03554537e-01,  1.27747039e-02,\n",
       "        -3.88953959e-02, -8.36402530e-03, -5.44569049e-01],\n",
       "       [-5.21404578e-01,  3.10655771e-01,  4.63817073e-02,\n",
       "         7.37128740e-01, -1.21397179e-04, -4.17512016e-03,\n",
       "         2.93276807e-01, -5.22234318e-03,  8.01315282e-03],\n",
       "       [-1.81799395e-01, -6.56275064e-01,  7.23441590e-02,\n",
       "        -1.40184305e-01,  4.42946795e-02, -2.63535886e-03,\n",
       "         7.12405142e-01,  2.74238450e-02,  3.35348456e-02],\n",
       "       [ 1.37769988e-01, -6.42061159e-01,  6.72173481e-02,\n",
       "         5.42438762e-01, -3.16314667e-02, -2.48707066e-01,\n",
       "        -4.52427728e-01, -4.00721973e-02, -2.94369035e-02],\n",
       "       [-1.78976612e-02, -1.60997296e-01,  1.75911197e-01,\n",
       "         1.08163044e-01,  1.34023317e-02,  9.53440662e-01,\n",
       "        -1.47477131e-01,  7.93636765e-03,  8.62225061e-03],\n",
       "       [-1.68882853e-02,  9.69282519e-02,  9.73947474e-01,\n",
       "        -9.98644242e-02, -3.44458274e-03, -1.58509553e-01,\n",
       "        -3.66108445e-02,  7.27157557e-02, -2.83483354e-03],\n",
       "       [ 2.54656734e-02,  1.85673131e-02,  7.39613337e-02,\n",
       "        -2.14114178e-02,  1.15464637e-03,  8.40005559e-03,\n",
       "         5.00879135e-02, -9.95236460e-01,  1.31233966e-03]])"
      ]
     },
     "execution_count": 35,
     "metadata": {},
     "output_type": "execute_result"
    }
   ],
   "source": [
    "pca.components_"
   ]
  },
  {
   "cell_type": "markdown",
   "id": "1095d6be",
   "metadata": {},
   "source": [
    "# To find the optimum no.of components"
   ]
  },
  {
   "cell_type": "code",
   "execution_count": 36,
   "id": "c955932e",
   "metadata": {},
   "outputs": [
    {
     "data": {
      "image/png": "[encoded data removed]",
      "text/plain": [
       "<Figure size 864x576 with 1 Axes>"
      ]
     },
     "metadata": {
      "needs_background": "light"
     },
     "output_type": "display_data"
    }
   ],
   "source": [
    "# plotting the cumulative variance against the no.of components\n",
    "\n",
    "fig = plt.figure(figsize = (12,8))\n",
    "plt.plot(np.cumsum(pca.explained_variance_ratio_))\n",
    "plt.xlabel('no.of components')\n",
    "plt.ylabel('cumulative explained variance')\n",
    "plt.show()"
   ]
  },
  {
   "cell_type": "markdown",
   "id": "5716d056",
   "metadata": {},
   "source": [
    "From figure 4 components are enough to explain the 95% variance in the dataset"
   ]
  },
  {
   "cell_type": "code",
   "execution_count": 37,
   "id": "5ca6c794",
   "metadata": {},
   "outputs": [],
   "source": [
    "# Using the incremental PCA for efficiency(saves a lot of time on larger datasets)\n",
    "\n",
    "from sklearn.decomposition import PCA\n",
    "pca_final = PCA(n_components = 4)"
   ]
  },
  {
   "cell_type": "code",
   "execution_count": 38,
   "id": "32135ae2",
   "metadata": {},
   "outputs": [
    {
     "data": {
      "text/plain": [
       "(167, 4)"
      ]
     },
     "execution_count": 38,
     "metadata": {},
     "output_type": "execute_result"
    }
   ],
   "source": [
    "df_pca = pca_final.fit_transform(x)\n",
    "df_pca.shape"
   ]
  },
  {
   "cell_type": "code",
   "execution_count": 39,
   "id": "7b6e65a7",
   "metadata": {},
   "outputs": [
    {
     "data": {
      "text/html": [
       "<div>\n",
       "<style scoped>\n",
       "    .dataframe tbody tr th:only-of-type {\n",
       "        vertical-align: middle;\n",
       "    }\n",
       "\n",
       "    .dataframe tbody tr th {\n",
       "        vertical-align: top;\n",
       "    }\n",
       "\n",
       "    .dataframe thead th {\n",
       "        text-align: right;\n",
       "    }\n",
       "</style>\n",
       "<table border=\"1\" class=\"dataframe\">\n",
       "  <thead>\n",
       "    <tr style=\"text-align: right;\">\n",
       "      <th></th>\n",
       "      <th>0</th>\n",
       "      <th>1</th>\n",
       "      <th>2</th>\n",
       "      <th>3</th>\n",
       "    </tr>\n",
       "  </thead>\n",
       "  <tbody>\n",
       "    <tr>\n",
       "      <th>0</th>\n",
       "      <td>-0.181920</td>\n",
       "      <td>0.037901</td>\n",
       "      <td>0.006010</td>\n",
       "      <td>-0.001932</td>\n",
       "    </tr>\n",
       "    <tr>\n",
       "      <th>1</th>\n",
       "      <td>-0.119981</td>\n",
       "      <td>-0.021706</td>\n",
       "      <td>0.004447</td>\n",
       "      <td>0.000108</td>\n",
       "    </tr>\n",
       "    <tr>\n",
       "      <th>2</th>\n",
       "      <td>-0.176225</td>\n",
       "      <td>-0.023563</td>\n",
       "      <td>0.017638</td>\n",
       "      <td>-0.002598</td>\n",
       "    </tr>\n",
       "    <tr>\n",
       "      <th>3</th>\n",
       "      <td>0.026011</td>\n",
       "      <td>-0.001124</td>\n",
       "      <td>-0.017793</td>\n",
       "      <td>-0.003088</td>\n",
       "    </tr>\n",
       "    <tr>\n",
       "      <th>4</th>\n",
       "      <td>0.056422</td>\n",
       "      <td>-0.017119</td>\n",
       "      <td>-0.014927</td>\n",
       "      <td>-0.000761</td>\n",
       "    </tr>\n",
       "  </tbody>\n",
       "</table>\n",
       "</div>"
      ],
      "text/plain": [
       "          0         1         2         3\n",
       "0 -0.181920  0.037901  0.006010 -0.001932\n",
       "1 -0.119981 -0.021706  0.004447  0.000108\n",
       "2 -0.176225 -0.023563  0.017638 -0.002598\n",
       "3  0.026011 -0.001124 -0.017793 -0.003088\n",
       "4  0.056422 -0.017119 -0.014927 -0.000761"
      ]
     },
     "execution_count": 39,
     "metadata": {},
     "output_type": "execute_result"
    }
   ],
   "source": [
    "df_pca = pd.DataFrame(df_pca)\n",
    "df_pca.head()"
   ]
  },
  {
   "cell_type": "code",
   "execution_count": 40,
   "id": "fe2aa4d5",
   "metadata": {},
   "outputs": [
    {
     "data": {
      "text/plain": [
       "<AxesSubplot:>"
      ]
     },
     "execution_count": 40,
     "metadata": {},
     "output_type": "execute_result"
    },
    {
     "data": {
      "image/png": "[encoded data removed]",
      "text/plain": [
       "<Figure size 432x288 with 2 Axes>"
      ]
     },
     "metadata": {
      "needs_background": "light"
     },
     "output_type": "display_data"
    }
   ],
   "source": [
    "corr_ = df_pca.corr()\n",
    "sns.heatmap(corr_, annot = True)"
   ]
  },
  {
   "cell_type": "markdown",
   "id": "3a9cc87e",
   "metadata": {},
   "source": [
    "# K-Means Clustering"
   ]
  },
  {
   "cell_type": "code",
   "execution_count": 41,
   "id": "c6f33929",
   "metadata": {},
   "outputs": [
    {
     "name": "stdout",
     "output_type": "stream",
     "text": [
      "[5.3053632449361015, 1.4144573042168314, 0.6749545992130398, 0.46215380508408127, 0.3643511347668793, 0.29184823497663465, 0.21460439163602738, 0.17218937457208433, 0.14684476127357762, 0.12301478494393996]\n"
     ]
    },
    {
     "data": {
      "text/plain": [
       "Text(0, 0.5, 'WCSS')"
      ]
     },
     "execution_count": 41,
     "metadata": {},
     "output_type": "execute_result"
    },
    {
     "data": {
      "image/png": "[encoded data removed]",
      "text/plain": [
       "<Figure size 432x288 with 1 Axes>"
      ]
     },
     "metadata": {
      "needs_background": "light"
     },
     "output_type": "display_data"
    }
   ],
   "source": [
    "from sklearn.cluster import KMeans\n",
    "\n",
    "clusters = range(1,11)\n",
    "wcss = []\n",
    "\n",
    "for k in clusters:\n",
    "    kmeans = KMeans(n_clusters = k, random_state = 42, init = 'k-means++')\n",
    "    kmeans.fit(df_pca)\n",
    "    wcss.append(kmeans.inertia_)\n",
    "print(wcss)\n",
    "\n",
    "plt.plot(clusters, wcss)\n",
    "plt.title('Elbow Method')\n",
    "plt.xlabel('no.of clusters')\n",
    "plt.ylabel('WCSS')"
   ]
  },
  {
   "cell_type": "code",
   "execution_count": 42,
   "id": "83010b93",
   "metadata": {},
   "outputs": [
    {
     "data": {
      "text/plain": [
       "array([0, 0, 0, 2, 2, 2, 0, 1, 1, 0, 1, 2, 0, 1, 0, 1, 2, 0, 0, 0, 0, 0,\n",
       "       2, 2, 0, 0, 0, 0, 0, 1, 2, 0, 0, 2, 0, 2, 2, 0, 2, 2, 0, 2, 1, 2,\n",
       "       1, 2, 2, 0, 0, 2, 0, 2, 2, 1, 1, 2, 0, 0, 1, 0, 1, 2, 0, 2, 0, 2,\n",
       "       0, 2, 1, 0, 0, 0, 0, 1, 1, 1, 2, 1, 0, 0, 0, 1, 1, 0, 0, 2, 2, 0,\n",
       "       0, 0, 2, 1, 0, 0, 0, 0, 2, 0, 2, 0, 2, 1, 0, 0, 0, 0, 0, 0, 2, 0,\n",
       "       1, 1, 0, 0, 1, 0, 0, 2, 0, 2, 0, 2, 1, 1, 0, 0, 0, 2, 0, 0, 0, 2,\n",
       "       0, 1, 2, 1, 2, 2, 2, 1, 0, 2, 0, 2, 1, 1, 0, 0, 0, 1, 0, 2, 0, 2,\n",
       "       0, 0, 0, 2, 1, 1, 2, 0, 1, 1, 0, 0, 0])"
      ]
     },
     "execution_count": 42,
     "metadata": {},
     "output_type": "execute_result"
    }
   ],
   "source": [
    "km_model = KMeans(n_clusters = 3, init = 'k-means++', random_state = 42)\n",
    "km_labels = km_model.fit_predict(df_pca)\n",
    "km_labels"
   ]
  },
  {
   "cell_type": "code",
   "execution_count": 43,
   "id": "cef68bad",
   "metadata": {},
   "outputs": [
    {
     "data": {
      "image/png": "[encoded data removed]",
      "text/plain": [
       "<Figure size 432x288 with 1 Axes>"
      ]
     },
     "metadata": {
      "needs_background": "light"
     },
     "output_type": "display_data"
    }
   ],
   "source": [
    "d = df_pca.values\n",
    "plt.scatter(d[km_labels == 0,0], d[km_labels == 0,1], color = 'red', label = 'cluster1')\n",
    "plt.scatter(d[km_labels == 1,0], d[km_labels == 1,1], color = 'green', label = 'cluster2')\n",
    "plt.scatter(d[km_labels == 2,0], d[km_labels == 2,1], color = 'cyan', label = 'cluster3')\n",
    "plt.legend()\n",
    "plt.show()"
   ]
  },
  {
   "cell_type": "markdown",
   "id": "e347b767",
   "metadata": {},
   "source": [
    "# Checking the Efficiency\n"
   ]
  },
  {
   "cell_type": "code",
   "execution_count": 44,
   "id": "6b325934",
   "metadata": {},
   "outputs": [],
   "source": [
    "from sklearn.metrics import silhouette_score as ss, davies_bouldin_score as db"
   ]
  },
  {
   "cell_type": "code",
   "execution_count": 45,
   "id": "3a1b4867",
   "metadata": {},
   "outputs": [
    {
     "name": "stdout",
     "output_type": "stream",
     "text": [
      "Silhouette score =  0.5588934113588143\n",
      "DB index =  0.5467387340070148\n"
     ]
    }
   ],
   "source": [
    "print('Silhouette score = ', ss(df_pca, km_labels))\n",
    "print('DB index = ', db(df_pca, km_labels))"
   ]
  },
  {
   "cell_type": "markdown",
   "id": "cdea0cdc",
   "metadata": {},
   "source": [
    "# Identifying the cluster of backward countries"
   ]
  },
  {
   "cell_type": "code",
   "execution_count": 46,
   "id": "f3f4202e",
   "metadata": {},
   "outputs": [
    {
     "data": {
      "text/html": [
       "<div>\n",
       "<style scoped>\n",
       "    .dataframe tbody tr th:only-of-type {\n",
       "        vertical-align: middle;\n",
       "    }\n",
       "\n",
       "    .dataframe tbody tr th {\n",
       "        vertical-align: top;\n",
       "    }\n",
       "\n",
       "    .dataframe thead th {\n",
       "        text-align: right;\n",
       "    }\n",
       "</style>\n",
       "<table border=\"1\" class=\"dataframe\">\n",
       "  <thead>\n",
       "    <tr style=\"text-align: right;\">\n",
       "      <th></th>\n",
       "      <th>PC1</th>\n",
       "      <th>PC2</th>\n",
       "      <th>PC3</th>\n",
       "      <th>PC4</th>\n",
       "      <th>cluster_id</th>\n",
       "    </tr>\n",
       "  </thead>\n",
       "  <tbody>\n",
       "    <tr>\n",
       "      <th>0</th>\n",
       "      <td>-0.181920</td>\n",
       "      <td>0.037901</td>\n",
       "      <td>0.006010</td>\n",
       "      <td>-0.001932</td>\n",
       "      <td>0</td>\n",
       "    </tr>\n",
       "    <tr>\n",
       "      <th>1</th>\n",
       "      <td>-0.119981</td>\n",
       "      <td>-0.021706</td>\n",
       "      <td>0.004447</td>\n",
       "      <td>0.000108</td>\n",
       "      <td>0</td>\n",
       "    </tr>\n",
       "    <tr>\n",
       "      <th>2</th>\n",
       "      <td>-0.176225</td>\n",
       "      <td>-0.023563</td>\n",
       "      <td>0.017638</td>\n",
       "      <td>-0.002598</td>\n",
       "      <td>0</td>\n",
       "    </tr>\n",
       "    <tr>\n",
       "      <th>3</th>\n",
       "      <td>0.026011</td>\n",
       "      <td>-0.001124</td>\n",
       "      <td>-0.017793</td>\n",
       "      <td>-0.003088</td>\n",
       "      <td>2</td>\n",
       "    </tr>\n",
       "    <tr>\n",
       "      <th>4</th>\n",
       "      <td>0.056422</td>\n",
       "      <td>-0.017119</td>\n",
       "      <td>-0.014927</td>\n",
       "      <td>-0.000761</td>\n",
       "      <td>2</td>\n",
       "    </tr>\n",
       "  </tbody>\n",
       "</table>\n",
       "</div>"
      ],
      "text/plain": [
       "        PC1       PC2       PC3       PC4  cluster_id\n",
       "0 -0.181920  0.037901  0.006010 -0.001932           0\n",
       "1 -0.119981 -0.021706  0.004447  0.000108           0\n",
       "2 -0.176225 -0.023563  0.017638 -0.002598           0\n",
       "3  0.026011 -0.001124 -0.017793 -0.003088           2\n",
       "4  0.056422 -0.017119 -0.014927 -0.000761           2"
      ]
     },
     "execution_count": 46,
     "metadata": {},
     "output_type": "execute_result"
    }
   ],
   "source": [
    "df_pca_km = pd.concat([df_pca, pd.Series(km_labels)], axis =1)\n",
    "df_pca_km.columns = ['PC1','PC2', 'PC3','PC4', 'cluster_id']\n",
    "df_pca_km.head()"
   ]
  },
  {
   "cell_type": "code",
   "execution_count": 47,
   "id": "9975a00c",
   "metadata": {},
   "outputs": [
    {
     "data": {
      "text/html": [
       "<div>\n",
       "<style scoped>\n",
       "    .dataframe tbody tr th:only-of-type {\n",
       "        vertical-align: middle;\n",
       "    }\n",
       "\n",
       "    .dataframe tbody tr th {\n",
       "        vertical-align: top;\n",
       "    }\n",
       "\n",
       "    .dataframe thead th {\n",
       "        text-align: right;\n",
       "    }\n",
       "</style>\n",
       "<table border=\"1\" class=\"dataframe\">\n",
       "  <thead>\n",
       "    <tr style=\"text-align: right;\">\n",
       "      <th></th>\n",
       "      <th>country</th>\n",
       "      <th>PC1</th>\n",
       "      <th>PC2</th>\n",
       "      <th>PC3</th>\n",
       "      <th>PC4</th>\n",
       "      <th>cluster_id</th>\n",
       "    </tr>\n",
       "  </thead>\n",
       "  <tbody>\n",
       "    <tr>\n",
       "      <th>0</th>\n",
       "      <td>Afghanistan</td>\n",
       "      <td>-0.181920</td>\n",
       "      <td>0.037901</td>\n",
       "      <td>0.006010</td>\n",
       "      <td>-0.001932</td>\n",
       "      <td>0</td>\n",
       "    </tr>\n",
       "    <tr>\n",
       "      <th>1</th>\n",
       "      <td>Albania</td>\n",
       "      <td>-0.119981</td>\n",
       "      <td>-0.021706</td>\n",
       "      <td>0.004447</td>\n",
       "      <td>0.000108</td>\n",
       "      <td>0</td>\n",
       "    </tr>\n",
       "    <tr>\n",
       "      <th>2</th>\n",
       "      <td>Algeria</td>\n",
       "      <td>-0.176225</td>\n",
       "      <td>-0.023563</td>\n",
       "      <td>0.017638</td>\n",
       "      <td>-0.002598</td>\n",
       "      <td>0</td>\n",
       "    </tr>\n",
       "    <tr>\n",
       "      <th>3</th>\n",
       "      <td>Angola</td>\n",
       "      <td>0.026011</td>\n",
       "      <td>-0.001124</td>\n",
       "      <td>-0.017793</td>\n",
       "      <td>-0.003088</td>\n",
       "      <td>2</td>\n",
       "    </tr>\n",
       "    <tr>\n",
       "      <th>4</th>\n",
       "      <td>Antigua and Barbuda</td>\n",
       "      <td>0.056422</td>\n",
       "      <td>-0.017119</td>\n",
       "      <td>-0.014927</td>\n",
       "      <td>-0.000761</td>\n",
       "      <td>2</td>\n",
       "    </tr>\n",
       "  </tbody>\n",
       "</table>\n",
       "</div>"
      ],
      "text/plain": [
       "               country       PC1       PC2       PC3       PC4  cluster_id\n",
       "0          Afghanistan -0.181920  0.037901  0.006010 -0.001932           0\n",
       "1              Albania -0.119981 -0.021706  0.004447  0.000108           0\n",
       "2              Algeria -0.176225 -0.023563  0.017638 -0.002598           0\n",
       "3               Angola  0.026011 -0.001124 -0.017793 -0.003088           2\n",
       "4  Antigua and Barbuda  0.056422 -0.017119 -0.014927 -0.000761           2"
      ]
     },
     "execution_count": 47,
     "metadata": {},
     "output_type": "execute_result"
    }
   ],
   "source": [
    "pca_cluster_km = pd.concat([data1['country'], df_pca_km], axis = 1, join = 'outer',\n",
    "                           ignore_index = False, keys = None, levels = None, names = None,\n",
    "                          verify_integrity = False, sort = None, copy = True)\n",
    "pca_cluster_km.head()"
   ]
  },
  {
   "cell_type": "code",
   "execution_count": 48,
   "id": "b24a7c55",
   "metadata": {},
   "outputs": [
    {
     "data": {
      "text/html": [
       "<div>\n",
       "<style scoped>\n",
       "    .dataframe tbody tr th:only-of-type {\n",
       "        vertical-align: middle;\n",
       "    }\n",
       "\n",
       "    .dataframe tbody tr th {\n",
       "        vertical-align: top;\n",
       "    }\n",
       "\n",
       "    .dataframe thead th {\n",
       "        text-align: right;\n",
       "    }\n",
       "</style>\n",
       "<table border=\"1\" class=\"dataframe\">\n",
       "  <thead>\n",
       "    <tr style=\"text-align: right;\">\n",
       "      <th></th>\n",
       "      <th>country</th>\n",
       "      <th>cluster_id</th>\n",
       "      <th>child_mort</th>\n",
       "      <th>exports</th>\n",
       "      <th>health</th>\n",
       "      <th>imports</th>\n",
       "      <th>income</th>\n",
       "      <th>inflation</th>\n",
       "      <th>life_expec</th>\n",
       "      <th>total_fer</th>\n",
       "      <th>gdpp</th>\n",
       "    </tr>\n",
       "  </thead>\n",
       "  <tbody>\n",
       "    <tr>\n",
       "      <th>0</th>\n",
       "      <td>Afghanistan</td>\n",
       "      <td>0</td>\n",
       "      <td>90.2</td>\n",
       "      <td>10.0</td>\n",
       "      <td>7.58</td>\n",
       "      <td>44.9</td>\n",
       "      <td>1610</td>\n",
       "      <td>9.44</td>\n",
       "      <td>56.2</td>\n",
       "      <td>5.82</td>\n",
       "      <td>553</td>\n",
       "    </tr>\n",
       "    <tr>\n",
       "      <th>1</th>\n",
       "      <td>Albania</td>\n",
       "      <td>0</td>\n",
       "      <td>16.6</td>\n",
       "      <td>28.0</td>\n",
       "      <td>6.55</td>\n",
       "      <td>48.6</td>\n",
       "      <td>9930</td>\n",
       "      <td>4.49</td>\n",
       "      <td>76.3</td>\n",
       "      <td>1.65</td>\n",
       "      <td>4090</td>\n",
       "    </tr>\n",
       "    <tr>\n",
       "      <th>2</th>\n",
       "      <td>Algeria</td>\n",
       "      <td>0</td>\n",
       "      <td>27.3</td>\n",
       "      <td>38.4</td>\n",
       "      <td>4.17</td>\n",
       "      <td>31.4</td>\n",
       "      <td>12900</td>\n",
       "      <td>16.10</td>\n",
       "      <td>76.5</td>\n",
       "      <td>2.89</td>\n",
       "      <td>4460</td>\n",
       "    </tr>\n",
       "    <tr>\n",
       "      <th>3</th>\n",
       "      <td>Angola</td>\n",
       "      <td>2</td>\n",
       "      <td>119.0</td>\n",
       "      <td>62.3</td>\n",
       "      <td>2.85</td>\n",
       "      <td>42.9</td>\n",
       "      <td>5900</td>\n",
       "      <td>22.40</td>\n",
       "      <td>60.1</td>\n",
       "      <td>6.16</td>\n",
       "      <td>3530</td>\n",
       "    </tr>\n",
       "    <tr>\n",
       "      <th>4</th>\n",
       "      <td>Antigua and Barbuda</td>\n",
       "      <td>2</td>\n",
       "      <td>10.3</td>\n",
       "      <td>45.5</td>\n",
       "      <td>6.03</td>\n",
       "      <td>58.9</td>\n",
       "      <td>19100</td>\n",
       "      <td>1.44</td>\n",
       "      <td>76.8</td>\n",
       "      <td>2.13</td>\n",
       "      <td>12200</td>\n",
       "    </tr>\n",
       "  </tbody>\n",
       "</table>\n",
       "</div>"
      ],
      "text/plain": [
       "               country  cluster_id  child_mort  exports  health  imports  \\\n",
       "0          Afghanistan           0        90.2     10.0    7.58     44.9   \n",
       "1              Albania           0        16.6     28.0    6.55     48.6   \n",
       "2              Algeria           0        27.3     38.4    4.17     31.4   \n",
       "3               Angola           2       119.0     62.3    2.85     42.9   \n",
       "4  Antigua and Barbuda           2        10.3     45.5    6.03     58.9   \n",
       "\n",
       "   income  inflation  life_expec  total_fer   gdpp  \n",
       "0    1610       9.44        56.2       5.82    553  \n",
       "1    9930       4.49        76.3       1.65   4090  \n",
       "2   12900      16.10        76.5       2.89   4460  \n",
       "3    5900      22.40        60.1       6.16   3530  \n",
       "4   19100       1.44        76.8       2.13  12200  "
      ]
     },
     "execution_count": 48,
     "metadata": {},
     "output_type": "execute_result"
    }
   ],
   "source": [
    "clustered_data_km = pca_cluster_km[['country', 'cluster_id']].merge(data, on = 'country')\n",
    "clustered_data_km.head()"
   ]
  },
  {
   "cell_type": "code",
   "execution_count": 49,
   "id": "1b66f98b",
   "metadata": {},
   "outputs": [
    {
     "data": {
      "text/html": [
       "<div>\n",
       "<style scoped>\n",
       "    .dataframe tbody tr th:only-of-type {\n",
       "        vertical-align: middle;\n",
       "    }\n",
       "\n",
       "    .dataframe tbody tr th {\n",
       "        vertical-align: top;\n",
       "    }\n",
       "\n",
       "    .dataframe thead th {\n",
       "        text-align: right;\n",
       "    }\n",
       "</style>\n",
       "<table border=\"1\" class=\"dataframe\">\n",
       "  <thead>\n",
       "    <tr style=\"text-align: right;\">\n",
       "      <th></th>\n",
       "      <th>cluster_id</th>\n",
       "      <th>child_mort_mean</th>\n",
       "      <th>exports_mean</th>\n",
       "      <th>imports_mean</th>\n",
       "      <th>health_mean</th>\n",
       "      <th>income_mean</th>\n",
       "      <th>inflation_mean</th>\n",
       "      <th>life_expec_mean</th>\n",
       "      <th>total_fer_mean</th>\n",
       "      <th>gdpp_mean</th>\n",
       "    </tr>\n",
       "  </thead>\n",
       "  <tbody>\n",
       "    <tr>\n",
       "      <th>0</th>\n",
       "      <td>0</td>\n",
       "      <td>57.325301</td>\n",
       "      <td>33.173482</td>\n",
       "      <td>43.169469</td>\n",
       "      <td>6.061205</td>\n",
       "      <td>7504.253012</td>\n",
       "      <td>10.499771</td>\n",
       "      <td>66.109639</td>\n",
       "      <td>3.543012</td>\n",
       "      <td>3046.469880</td>\n",
       "    </tr>\n",
       "    <tr>\n",
       "      <th>1</th>\n",
       "      <td>1</td>\n",
       "      <td>10.294444</td>\n",
       "      <td>48.441667</td>\n",
       "      <td>47.825000</td>\n",
       "      <td>9.277778</td>\n",
       "      <td>39368.611111</td>\n",
       "      <td>3.715222</td>\n",
       "      <td>78.547222</td>\n",
       "      <td>2.078889</td>\n",
       "      <td>39656.111111</td>\n",
       "    </tr>\n",
       "    <tr>\n",
       "      <th>2</th>\n",
       "      <td>2</td>\n",
       "      <td>26.302083</td>\n",
       "      <td>49.331250</td>\n",
       "      <td>52.622917</td>\n",
       "      <td>6.273750</td>\n",
       "      <td>17146.666667</td>\n",
       "      <td>6.132021</td>\n",
       "      <td>72.250000</td>\n",
       "      <td>2.570833</td>\n",
       "      <td>10094.520833</td>\n",
       "    </tr>\n",
       "  </tbody>\n",
       "</table>\n",
       "</div>"
      ],
      "text/plain": [
       "   cluster_id  child_mort_mean  exports_mean  imports_mean  health_mean  \\\n",
       "0           0        57.325301     33.173482     43.169469     6.061205   \n",
       "1           1        10.294444     48.441667     47.825000     9.277778   \n",
       "2           2        26.302083     49.331250     52.622917     6.273750   \n",
       "\n",
       "    income_mean  inflation_mean  life_expec_mean  total_fer_mean     gdpp_mean  \n",
       "0   7504.253012       10.499771        66.109639        3.543012   3046.469880  \n",
       "1  39368.611111        3.715222        78.547222        2.078889  39656.111111  \n",
       "2  17146.666667        6.132021        72.250000        2.570833  10094.520833  "
      ]
     },
     "execution_count": 49,
     "metadata": {},
     "output_type": "execute_result"
    }
   ],
   "source": [
    "km_cluster_child_mort = pd.DataFrame(clustered_data_km.groupby(['cluster_id']).child_mort.mean())\n",
    "km_cluster_exports = pd.DataFrame(clustered_data_km.groupby(['cluster_id']).exports.mean())\n",
    "km_cluster_imports = pd.DataFrame(clustered_data_km.groupby(['cluster_id']).imports.mean())\n",
    "km_cluster_health = pd.DataFrame(clustered_data_km.groupby(['cluster_id']).health.mean())\n",
    "km_cluster_income = pd.DataFrame(clustered_data_km.groupby(['cluster_id']).income.mean())\n",
    "km_cluster_inflation = pd.DataFrame(clustered_data_km.groupby(['cluster_id']).inflation.mean())\n",
    "km_cluster_life_expec = pd.DataFrame(clustered_data_km.groupby(['cluster_id']).life_expec.mean())\n",
    "km_cluster_total_fer = pd.DataFrame(clustered_data_km.groupby(['cluster_id']).total_fer.mean())\n",
    "km_cluster_gdpp = pd.DataFrame(clustered_data_km.groupby(['cluster_id']).gdpp.mean())\n",
    "\n",
    "df_km = pd.concat([pd.Series([0,1,2]), km_cluster_child_mort, km_cluster_exports, km_cluster_imports, \n",
    "               km_cluster_health, km_cluster_income, km_cluster_inflation, km_cluster_life_expec, km_cluster_total_fer, \n",
    "               km_cluster_gdpp], axis = 1)\n",
    "df_km.columns = ['cluster_id', 'child_mort_mean', 'exports_mean', 'imports_mean', 'health_mean', \n",
    "              'income_mean', 'inflation_mean', 'life_expec_mean', 'total_fer_mean', 'gdpp_mean'] \n",
    "df_km"
   ]
  },
  {
   "cell_type": "code",
   "execution_count": 50,
   "id": "ebcda21e",
   "metadata": {},
   "outputs": [
    {
     "data": {
      "text/plain": [
       "<AxesSubplot:xlabel='cluster_id', ylabel='gdpp_mean'>"
      ]
     },
     "execution_count": 50,
     "metadata": {},
     "output_type": "execute_result"
    },
    {
     "data": {
      "image/png": "[encoded data removed]",
      "text/plain": [
       "<Figure size 1080x1080 with 9 Axes>"
      ]
     },
     "metadata": {
      "needs_background": "light"
     },
     "output_type": "display_data"
    }
   ],
   "source": [
    "fig, ax = plt.subplots(3, 3, figsize = (15, 15))\n",
    "\n",
    "sns.barplot(x = 'cluster_id', y = 'child_mort_mean', data = df_km, ax = ax[0,0])\n",
    "sns.barplot(x = 'cluster_id', y = 'exports_mean', data = df_km, ax = ax[0,1])\n",
    "sns.barplot(x = 'cluster_id', y = 'imports_mean', data = df_km, ax = ax[0,2])\n",
    "sns.barplot(x = 'cluster_id', y = 'health_mean', data = df_km, ax = ax[1,0])\n",
    "sns.barplot(x = 'cluster_id', y = 'income_mean', data = df_km, ax = ax[1,1])\n",
    "sns.barplot(x = 'cluster_id', y = 'inflation_mean', data = df_km, ax = ax[1,2])\n",
    "sns.barplot(x = 'cluster_id', y = 'life_expec_mean', data = df_km, ax = ax[2,0])\n",
    "sns.barplot(x = 'cluster_id', y = 'total_fer_mean', data = df_km, ax = ax[2,1])\n",
    "sns.barplot(x = 'cluster_id', y = 'gdpp_mean', data = df_km, ax = ax[2,2])"
   ]
  },
  {
   "cell_type": "code",
   "execution_count": 51,
   "id": "ba0996bb",
   "metadata": {},
   "outputs": [
    {
     "data": {
      "text/plain": [
       "array(['Afghanistan', 'Albania', 'Algeria', 'Armenia', 'Azerbaijan',\n",
       "       'Bangladesh', 'Belarus', 'Benin', 'Bhutan', 'Bolivia',\n",
       "       'Bosnia and Herzegovina', 'Botswana', 'Bulgaria', 'Burkina Faso',\n",
       "       'Burundi', 'Cambodia', 'Cameroon', 'Central African Republic',\n",
       "       'Chad', 'China', 'Congo, Dem. Rep.', \"Cote d'Ivoire\", 'Egypt',\n",
       "       'El Salvador', 'Eritrea', 'Gambia', 'Georgia', 'Ghana',\n",
       "       'Guatemala', 'Guinea-Bissau', 'Haiti', 'India', 'Indonesia',\n",
       "       'Iran', 'Iraq', 'Jordan', 'Kazakhstan', 'Kenya', 'Kyrgyz Republic',\n",
       "       'Lao', 'Lesotho', 'Liberia', 'Libya', 'Macedonia, FYR',\n",
       "       'Madagascar', 'Malawi', 'Malaysia', 'Mali', 'Mauritania',\n",
       "       'Moldova', 'Mongolia', 'Montenegro', 'Morocco', 'Mozambique',\n",
       "       'Myanmar', 'Nepal', 'Niger', 'Nigeria', 'Oman', 'Pakistan',\n",
       "       'Paraguay', 'Philippines', 'Romania', 'Russia', 'Rwanda',\n",
       "       'Saudi Arabia', 'Senegal', 'Serbia', 'Sierra Leone', 'Sri Lanka',\n",
       "       'Sudan', 'Tajikistan', 'Tanzania', 'Thailand', 'Togo', 'Tunisia',\n",
       "       'Turkmenistan', 'Uganda', 'Ukraine', 'Uzbekistan', 'Vietnam',\n",
       "       'Yemen', 'Zambia'], dtype=object)"
      ]
     },
     "execution_count": 51,
     "metadata": {},
     "output_type": "execute_result"
    }
   ],
   "source": [
    "cluster_0_km = clustered_data_km[clustered_data_km['cluster_id'] == 0]['country'].values\n",
    "cluster_0_km"
   ]
  },
  {
   "cell_type": "code",
   "execution_count": 52,
   "id": "17319022",
   "metadata": {},
   "outputs": [
    {
     "data": {
      "text/plain": [
       "83"
      ]
     },
     "execution_count": 52,
     "metadata": {},
     "output_type": "execute_result"
    }
   ],
   "source": [
    "len(cluster_0_km)"
   ]
  },
  {
   "cell_type": "markdown",
   "id": "7957306e",
   "metadata": {},
   "source": [
    "# Hierarchical Clustering"
   ]
  },
  {
   "cell_type": "code",
   "execution_count": 53,
   "id": "694f77e0",
   "metadata": {},
   "outputs": [
    {
     "data": {
      "image/png": "[encoded data removed]",
      "text/plain": [
       "<Figure size 720x432 with 1 Axes>"
      ]
     },
     "metadata": {
      "needs_background": "light"
     },
     "output_type": "display_data"
    }
   ],
   "source": [
    "from scipy.cluster.hierarchy import dendrogram, linkage, cut_tree\n",
    "\n",
    "linked = linkage(df_pca, method = 'ward', metric = 'euclidean')\n",
    "plt.figure(figsize = (10,6))\n",
    "dendrogram(linked)\n",
    "plt.show()"
   ]
  },
  {
   "cell_type": "markdown",
   "id": "721bcb6e",
   "metadata": {},
   "source": [
    "From the plot, the optimum no.of clusters = 2"
   ]
  },
  {
   "cell_type": "code",
   "execution_count": 54,
   "id": "57b55bfd",
   "metadata": {},
   "outputs": [],
   "source": [
    "from sklearn.cluster import AgglomerativeClustering as agg"
   ]
  },
  {
   "cell_type": "code",
   "execution_count": 55,
   "id": "f742b8bf",
   "metadata": {},
   "outputs": [
    {
     "data": {
      "text/plain": [
       "array([1, 1, 1, 0, 0, 0, 1, 0, 0, 1, 0, 1, 1, 0, 1, 0, 0, 1, 1, 1, 1, 1,\n",
       "       0, 0, 1, 1, 1, 1, 1, 0, 0, 1, 1, 0, 1, 0, 1, 1, 0, 0, 1, 0, 0, 0,\n",
       "       0, 1, 1, 1, 1, 1, 1, 0, 1, 0, 0, 0, 1, 1, 0, 1, 0, 0, 1, 1, 1, 0,\n",
       "       1, 0, 0, 1, 1, 1, 1, 0, 0, 0, 0, 0, 1, 1, 1, 0, 0, 1, 1, 0, 0, 1,\n",
       "       1, 1, 0, 0, 1, 1, 1, 1, 0, 1, 0, 1, 1, 0, 1, 1, 1, 1, 1, 1, 0, 1,\n",
       "       0, 0, 1, 1, 0, 1, 1, 0, 1, 1, 1, 0, 0, 0, 1, 1, 1, 0, 1, 1, 1, 0,\n",
       "       1, 0, 0, 0, 0, 0, 0, 0, 1, 0, 1, 0, 0, 0, 1, 1, 1, 0, 1, 0, 1, 0,\n",
       "       1, 1, 1, 0, 0, 0, 0, 1, 0, 0, 1, 1, 1], dtype=int64)"
      ]
     },
     "execution_count": 55,
     "metadata": {},
     "output_type": "execute_result"
    }
   ],
   "source": [
    "agg_model = agg(n_clusters = 2, affinity = 'euclidean', linkage = 'ward')\n",
    "agg_labels = agg_model.fit_predict(df_pca)\n",
    "agg_labels"
   ]
  },
  {
   "cell_type": "code",
   "execution_count": 56,
   "id": "51f450f1",
   "metadata": {},
   "outputs": [
    {
     "data": {
      "image/png": "[encoded data removed]",
      "text/plain": [
       "<Figure size 1440x432 with 1 Axes>"
      ]
     },
     "metadata": {
      "needs_background": "light"
     },
     "output_type": "display_data"
    }
   ],
   "source": [
    "plt.figure(figsize = (20,6))\n",
    "\n",
    "plt.scatter(d[agg_labels == 0,0], d[agg_labels == 0,1], c = 'red', label = 'cluster1')\n",
    "plt.scatter(d[agg_labels == 1,0], d[agg_labels == 1,1], c = 'green', label = 'cluster2')\n",
    "\n",
    "plt.legend()\n",
    "plt.show()\n"
   ]
  },
  {
   "cell_type": "markdown",
   "id": "00651b61",
   "metadata": {},
   "source": [
    "# Checking the efficiency"
   ]
  },
  {
   "cell_type": "code",
   "execution_count": 57,
   "id": "65870b1c",
   "metadata": {},
   "outputs": [
    {
     "name": "stdout",
     "output_type": "stream",
     "text": [
      "Silhouette score =  0.5565343123432354\n",
      "DB index =  0.6216472876787545\n"
     ]
    }
   ],
   "source": [
    "print('Silhouette score = ', ss(df_pca, agg_labels))\n",
    "print('DB index = ', db(df_pca, agg_labels))"
   ]
  },
  {
   "cell_type": "markdown",
   "id": "81e8bfd5",
   "metadata": {},
   "source": [
    "# Identifying the cluster of backward countries"
   ]
  },
  {
   "cell_type": "code",
   "execution_count": 58,
   "id": "547a3cbd",
   "metadata": {},
   "outputs": [
    {
     "data": {
      "text/html": [
       "<div>\n",
       "<style scoped>\n",
       "    .dataframe tbody tr th:only-of-type {\n",
       "        vertical-align: middle;\n",
       "    }\n",
       "\n",
       "    .dataframe tbody tr th {\n",
       "        vertical-align: top;\n",
       "    }\n",
       "\n",
       "    .dataframe thead th {\n",
       "        text-align: right;\n",
       "    }\n",
       "</style>\n",
       "<table border=\"1\" class=\"dataframe\">\n",
       "  <thead>\n",
       "    <tr style=\"text-align: right;\">\n",
       "      <th></th>\n",
       "      <th>PC1</th>\n",
       "      <th>PC2</th>\n",
       "      <th>PC3</th>\n",
       "      <th>PC4</th>\n",
       "      <th>cluster_id</th>\n",
       "    </tr>\n",
       "  </thead>\n",
       "  <tbody>\n",
       "    <tr>\n",
       "      <th>0</th>\n",
       "      <td>-0.181920</td>\n",
       "      <td>0.037901</td>\n",
       "      <td>0.006010</td>\n",
       "      <td>-0.001932</td>\n",
       "      <td>1</td>\n",
       "    </tr>\n",
       "    <tr>\n",
       "      <th>1</th>\n",
       "      <td>-0.119981</td>\n",
       "      <td>-0.021706</td>\n",
       "      <td>0.004447</td>\n",
       "      <td>0.000108</td>\n",
       "      <td>1</td>\n",
       "    </tr>\n",
       "    <tr>\n",
       "      <th>2</th>\n",
       "      <td>-0.176225</td>\n",
       "      <td>-0.023563</td>\n",
       "      <td>0.017638</td>\n",
       "      <td>-0.002598</td>\n",
       "      <td>1</td>\n",
       "    </tr>\n",
       "    <tr>\n",
       "      <th>3</th>\n",
       "      <td>0.026011</td>\n",
       "      <td>-0.001124</td>\n",
       "      <td>-0.017793</td>\n",
       "      <td>-0.003088</td>\n",
       "      <td>0</td>\n",
       "    </tr>\n",
       "    <tr>\n",
       "      <th>4</th>\n",
       "      <td>0.056422</td>\n",
       "      <td>-0.017119</td>\n",
       "      <td>-0.014927</td>\n",
       "      <td>-0.000761</td>\n",
       "      <td>0</td>\n",
       "    </tr>\n",
       "  </tbody>\n",
       "</table>\n",
       "</div>"
      ],
      "text/plain": [
       "        PC1       PC2       PC3       PC4  cluster_id\n",
       "0 -0.181920  0.037901  0.006010 -0.001932           1\n",
       "1 -0.119981 -0.021706  0.004447  0.000108           1\n",
       "2 -0.176225 -0.023563  0.017638 -0.002598           1\n",
       "3  0.026011 -0.001124 -0.017793 -0.003088           0\n",
       "4  0.056422 -0.017119 -0.014927 -0.000761           0"
      ]
     },
     "execution_count": 58,
     "metadata": {},
     "output_type": "execute_result"
    }
   ],
   "source": [
    "df_pca_hc = pd.concat([df_pca, pd.Series(agg_labels)], axis = 1)\n",
    "df_pca_hc.columns = ['PC1','PC2','PC3','PC4','cluster_id']\n",
    "df_pca_hc.head()"
   ]
  },
  {
   "cell_type": "code",
   "execution_count": 59,
   "id": "7a065365",
   "metadata": {},
   "outputs": [
    {
     "data": {
      "text/html": [
       "<div>\n",
       "<style scoped>\n",
       "    .dataframe tbody tr th:only-of-type {\n",
       "        vertical-align: middle;\n",
       "    }\n",
       "\n",
       "    .dataframe tbody tr th {\n",
       "        vertical-align: top;\n",
       "    }\n",
       "\n",
       "    .dataframe thead th {\n",
       "        text-align: right;\n",
       "    }\n",
       "</style>\n",
       "<table border=\"1\" class=\"dataframe\">\n",
       "  <thead>\n",
       "    <tr style=\"text-align: right;\">\n",
       "      <th></th>\n",
       "      <th>country</th>\n",
       "      <th>PC1</th>\n",
       "      <th>PC2</th>\n",
       "      <th>PC3</th>\n",
       "      <th>PC4</th>\n",
       "      <th>cluster_id</th>\n",
       "    </tr>\n",
       "  </thead>\n",
       "  <tbody>\n",
       "    <tr>\n",
       "      <th>0</th>\n",
       "      <td>Afghanistan</td>\n",
       "      <td>-0.181920</td>\n",
       "      <td>0.037901</td>\n",
       "      <td>0.006010</td>\n",
       "      <td>-0.001932</td>\n",
       "      <td>1</td>\n",
       "    </tr>\n",
       "    <tr>\n",
       "      <th>1</th>\n",
       "      <td>Albania</td>\n",
       "      <td>-0.119981</td>\n",
       "      <td>-0.021706</td>\n",
       "      <td>0.004447</td>\n",
       "      <td>0.000108</td>\n",
       "      <td>1</td>\n",
       "    </tr>\n",
       "    <tr>\n",
       "      <th>2</th>\n",
       "      <td>Algeria</td>\n",
       "      <td>-0.176225</td>\n",
       "      <td>-0.023563</td>\n",
       "      <td>0.017638</td>\n",
       "      <td>-0.002598</td>\n",
       "      <td>1</td>\n",
       "    </tr>\n",
       "    <tr>\n",
       "      <th>3</th>\n",
       "      <td>Angola</td>\n",
       "      <td>0.026011</td>\n",
       "      <td>-0.001124</td>\n",
       "      <td>-0.017793</td>\n",
       "      <td>-0.003088</td>\n",
       "      <td>0</td>\n",
       "    </tr>\n",
       "    <tr>\n",
       "      <th>4</th>\n",
       "      <td>Antigua and Barbuda</td>\n",
       "      <td>0.056422</td>\n",
       "      <td>-0.017119</td>\n",
       "      <td>-0.014927</td>\n",
       "      <td>-0.000761</td>\n",
       "      <td>0</td>\n",
       "    </tr>\n",
       "  </tbody>\n",
       "</table>\n",
       "</div>"
      ],
      "text/plain": [
       "               country       PC1       PC2       PC3       PC4  cluster_id\n",
       "0          Afghanistan -0.181920  0.037901  0.006010 -0.001932           1\n",
       "1              Albania -0.119981 -0.021706  0.004447  0.000108           1\n",
       "2              Algeria -0.176225 -0.023563  0.017638 -0.002598           1\n",
       "3               Angola  0.026011 -0.001124 -0.017793 -0.003088           0\n",
       "4  Antigua and Barbuda  0.056422 -0.017119 -0.014927 -0.000761           0"
      ]
     },
     "execution_count": 59,
     "metadata": {},
     "output_type": "execute_result"
    }
   ],
   "source": [
    "pca_cluster_hc = pd.concat([data1['country'], df_pca_hc], axis = 1, join = 'outer',\n",
    "                           ignore_index = False, keys = None, levels = None, names = None,\n",
    "                          verify_integrity = False, sort = None, copy = True)\n",
    "pca_cluster_hc.head()"
   ]
  },
  {
   "cell_type": "code",
   "execution_count": 60,
   "id": "52807b1d",
   "metadata": {},
   "outputs": [
    {
     "data": {
      "text/html": [
       "<div>\n",
       "<style scoped>\n",
       "    .dataframe tbody tr th:only-of-type {\n",
       "        vertical-align: middle;\n",
       "    }\n",
       "\n",
       "    .dataframe tbody tr th {\n",
       "        vertical-align: top;\n",
       "    }\n",
       "\n",
       "    .dataframe thead th {\n",
       "        text-align: right;\n",
       "    }\n",
       "</style>\n",
       "<table border=\"1\" class=\"dataframe\">\n",
       "  <thead>\n",
       "    <tr style=\"text-align: right;\">\n",
       "      <th></th>\n",
       "      <th>country</th>\n",
       "      <th>cluster_id</th>\n",
       "      <th>child_mort</th>\n",
       "      <th>exports</th>\n",
       "      <th>health</th>\n",
       "      <th>imports</th>\n",
       "      <th>income</th>\n",
       "      <th>inflation</th>\n",
       "      <th>life_expec</th>\n",
       "      <th>total_fer</th>\n",
       "      <th>gdpp</th>\n",
       "    </tr>\n",
       "  </thead>\n",
       "  <tbody>\n",
       "    <tr>\n",
       "      <th>0</th>\n",
       "      <td>Afghanistan</td>\n",
       "      <td>1</td>\n",
       "      <td>90.2</td>\n",
       "      <td>10.0</td>\n",
       "      <td>7.58</td>\n",
       "      <td>44.9</td>\n",
       "      <td>1610</td>\n",
       "      <td>9.44</td>\n",
       "      <td>56.2</td>\n",
       "      <td>5.82</td>\n",
       "      <td>553</td>\n",
       "    </tr>\n",
       "    <tr>\n",
       "      <th>1</th>\n",
       "      <td>Albania</td>\n",
       "      <td>1</td>\n",
       "      <td>16.6</td>\n",
       "      <td>28.0</td>\n",
       "      <td>6.55</td>\n",
       "      <td>48.6</td>\n",
       "      <td>9930</td>\n",
       "      <td>4.49</td>\n",
       "      <td>76.3</td>\n",
       "      <td>1.65</td>\n",
       "      <td>4090</td>\n",
       "    </tr>\n",
       "    <tr>\n",
       "      <th>2</th>\n",
       "      <td>Algeria</td>\n",
       "      <td>1</td>\n",
       "      <td>27.3</td>\n",
       "      <td>38.4</td>\n",
       "      <td>4.17</td>\n",
       "      <td>31.4</td>\n",
       "      <td>12900</td>\n",
       "      <td>16.10</td>\n",
       "      <td>76.5</td>\n",
       "      <td>2.89</td>\n",
       "      <td>4460</td>\n",
       "    </tr>\n",
       "    <tr>\n",
       "      <th>3</th>\n",
       "      <td>Angola</td>\n",
       "      <td>0</td>\n",
       "      <td>119.0</td>\n",
       "      <td>62.3</td>\n",
       "      <td>2.85</td>\n",
       "      <td>42.9</td>\n",
       "      <td>5900</td>\n",
       "      <td>22.40</td>\n",
       "      <td>60.1</td>\n",
       "      <td>6.16</td>\n",
       "      <td>3530</td>\n",
       "    </tr>\n",
       "    <tr>\n",
       "      <th>4</th>\n",
       "      <td>Antigua and Barbuda</td>\n",
       "      <td>0</td>\n",
       "      <td>10.3</td>\n",
       "      <td>45.5</td>\n",
       "      <td>6.03</td>\n",
       "      <td>58.9</td>\n",
       "      <td>19100</td>\n",
       "      <td>1.44</td>\n",
       "      <td>76.8</td>\n",
       "      <td>2.13</td>\n",
       "      <td>12200</td>\n",
       "    </tr>\n",
       "  </tbody>\n",
       "</table>\n",
       "</div>"
      ],
      "text/plain": [
       "               country  cluster_id  child_mort  exports  health  imports  \\\n",
       "0          Afghanistan           1        90.2     10.0    7.58     44.9   \n",
       "1              Albania           1        16.6     28.0    6.55     48.6   \n",
       "2              Algeria           1        27.3     38.4    4.17     31.4   \n",
       "3               Angola           0       119.0     62.3    2.85     42.9   \n",
       "4  Antigua and Barbuda           0        10.3     45.5    6.03     58.9   \n",
       "\n",
       "   income  inflation  life_expec  total_fer   gdpp  \n",
       "0    1610       9.44        56.2       5.82    553  \n",
       "1    9930       4.49        76.3       1.65   4090  \n",
       "2   12900      16.10        76.5       2.89   4460  \n",
       "3    5900      22.40        60.1       6.16   3530  \n",
       "4   19100       1.44        76.8       2.13  12200  "
      ]
     },
     "execution_count": 60,
     "metadata": {},
     "output_type": "execute_result"
    }
   ],
   "source": [
    "clustered_data_hc = pca_cluster_hc[['country', 'cluster_id']].merge(data, on = 'country')\n",
    "clustered_data_hc.head()"
   ]
  },
  {
   "cell_type": "code",
   "execution_count": 61,
   "id": "676162f9",
   "metadata": {},
   "outputs": [
    {
     "data": {
      "text/html": [
       "<div>\n",
       "<style scoped>\n",
       "    .dataframe tbody tr th:only-of-type {\n",
       "        vertical-align: middle;\n",
       "    }\n",
       "\n",
       "    .dataframe tbody tr th {\n",
       "        vertical-align: top;\n",
       "    }\n",
       "\n",
       "    .dataframe thead th {\n",
       "        text-align: right;\n",
       "    }\n",
       "</style>\n",
       "<table border=\"1\" class=\"dataframe\">\n",
       "  <thead>\n",
       "    <tr style=\"text-align: right;\">\n",
       "      <th></th>\n",
       "      <th>cluster_id</th>\n",
       "      <th>child_mort_mean</th>\n",
       "      <th>exports_mean</th>\n",
       "      <th>imports_mean</th>\n",
       "      <th>health_mean</th>\n",
       "      <th>income_mean</th>\n",
       "      <th>inflation_mean</th>\n",
       "      <th>life_expec_mean</th>\n",
       "      <th>total_fer_mean</th>\n",
       "      <th>gdpp_mean</th>\n",
       "    </tr>\n",
       "  </thead>\n",
       "  <tbody>\n",
       "    <tr>\n",
       "      <th>0</th>\n",
       "      <td>0</td>\n",
       "      <td>15.965333</td>\n",
       "      <td>49.630667</td>\n",
       "      <td>51.030667</td>\n",
       "      <td>7.813733</td>\n",
       "      <td>28123.333333</td>\n",
       "      <td>4.690600</td>\n",
       "      <td>75.560000</td>\n",
       "      <td>2.249867</td>\n",
       "      <td>24615.466667</td>\n",
       "    </tr>\n",
       "    <tr>\n",
       "      <th>1</th>\n",
       "      <td>1</td>\n",
       "      <td>56.453261</td>\n",
       "      <td>34.161946</td>\n",
       "      <td>43.514847</td>\n",
       "      <td>6.002065</td>\n",
       "      <td>8194.706522</td>\n",
       "      <td>10.301859</td>\n",
       "      <td>66.476087</td>\n",
       "      <td>3.517065</td>\n",
       "      <td>3465.804348</td>\n",
       "    </tr>\n",
       "  </tbody>\n",
       "</table>\n",
       "</div>"
      ],
      "text/plain": [
       "   cluster_id  child_mort_mean  exports_mean  imports_mean  health_mean  \\\n",
       "0           0        15.965333     49.630667     51.030667     7.813733   \n",
       "1           1        56.453261     34.161946     43.514847     6.002065   \n",
       "\n",
       "    income_mean  inflation_mean  life_expec_mean  total_fer_mean     gdpp_mean  \n",
       "0  28123.333333        4.690600        75.560000        2.249867  24615.466667  \n",
       "1   8194.706522       10.301859        66.476087        3.517065   3465.804348  "
      ]
     },
     "execution_count": 61,
     "metadata": {},
     "output_type": "execute_result"
    }
   ],
   "source": [
    "hc_cluster_child_mort = pd.DataFrame(clustered_data_hc.groupby(['cluster_id']).child_mort.mean())\n",
    "hc_cluster_exports = pd.DataFrame(clustered_data_hc.groupby(['cluster_id']).exports.mean())\n",
    "hc_cluster_imports = pd.DataFrame(clustered_data_hc.groupby(['cluster_id']).imports.mean())\n",
    "hc_cluster_health = pd.DataFrame(clustered_data_hc.groupby(['cluster_id']).health.mean())\n",
    "hc_cluster_income = pd.DataFrame(clustered_data_hc.groupby(['cluster_id']).income.mean())\n",
    "hc_cluster_inflation = pd.DataFrame(clustered_data_hc.groupby(['cluster_id']).inflation.mean())\n",
    "hc_cluster_life_expec = pd.DataFrame(clustered_data_hc.groupby(['cluster_id']).life_expec.mean())\n",
    "hc_cluster_total_fer = pd.DataFrame(clustered_data_hc.groupby(['cluster_id']).total_fer.mean())\n",
    "hc_cluster_gdpp = pd.DataFrame(clustered_data_hc.groupby(['cluster_id']).gdpp.mean())\n",
    "\n",
    "df_hc = pd.concat([pd.Series([0,1]), hc_cluster_child_mort, hc_cluster_exports, hc_cluster_imports, \n",
    "               hc_cluster_health, hc_cluster_income, hc_cluster_inflation, hc_cluster_life_expec, hc_cluster_total_fer, \n",
    "               hc_cluster_gdpp], axis = 1)\n",
    "df_hc.columns = ['cluster_id', 'child_mort_mean', 'exports_mean', 'imports_mean', 'health_mean', \n",
    "              'income_mean', 'inflation_mean', 'life_expec_mean', 'total_fer_mean', 'gdpp_mean'] \n",
    "df_hc"
   ]
  },
  {
   "cell_type": "code",
   "execution_count": 62,
   "id": "a0a76fcd",
   "metadata": {},
   "outputs": [
    {
     "data": {
      "text/plain": [
       "<AxesSubplot:xlabel='cluster_id', ylabel='gdpp_mean'>"
      ]
     },
     "execution_count": 62,
     "metadata": {},
     "output_type": "execute_result"
    },
    {
     "data": {
      "image/png": "[encoded data removed]",
      "text/plain": [
       "<Figure size 1080x1080 with 9 Axes>"
      ]
     },
     "metadata": {
      "needs_background": "light"
     },
     "output_type": "display_data"
    }
   ],
   "source": [
    "fig, ax = plt.subplots(3, 3, figsize = (15, 15))\n",
    "\n",
    "sns.barplot(x = 'cluster_id', y = 'child_mort_mean', data = df_hc, ax = ax[0,0])\n",
    "sns.barplot(x = 'cluster_id', y = 'exports_mean', data = df_hc, ax = ax[0,1])\n",
    "sns.barplot(x = 'cluster_id', y = 'imports_mean', data = df_hc, ax = ax[0,2])\n",
    "sns.barplot(x = 'cluster_id', y = 'health_mean', data = df_hc, ax = ax[1,0])\n",
    "sns.barplot(x = 'cluster_id', y = 'income_mean', data = df_hc, ax = ax[1,1])\n",
    "sns.barplot(x = 'cluster_id', y = 'inflation_mean', data = df_hc, ax = ax[1,2])\n",
    "sns.barplot(x = 'cluster_id', y = 'life_expec_mean', data = df_hc, ax = ax[2,0])\n",
    "sns.barplot(x = 'cluster_id', y = 'total_fer_mean', data = df_hc, ax = ax[2,1])\n",
    "sns.barplot(x = 'cluster_id', y = 'gdpp_mean', data = df_hc, ax = ax[2,2])"
   ]
  },
  {
   "cell_type": "code",
   "execution_count": 63,
   "id": "6702bbfd",
   "metadata": {},
   "outputs": [
    {
     "data": {
      "text/plain": [
       "array(['Afghanistan', 'Albania', 'Algeria', 'Armenia', 'Azerbaijan',\n",
       "       'Bahrain', 'Bangladesh', 'Belarus', 'Benin', 'Bhutan', 'Bolivia',\n",
       "       'Bosnia and Herzegovina', 'Botswana', 'Bulgaria', 'Burkina Faso',\n",
       "       'Burundi', 'Cambodia', 'Cameroon', 'Central African Republic',\n",
       "       'Chad', 'China', 'Comoros', 'Congo, Dem. Rep.', \"Cote d'Ivoire\",\n",
       "       'Dominican Republic', 'Ecuador', 'Egypt', 'El Salvador',\n",
       "       'Equatorial Guinea', 'Eritrea', 'Fiji', 'Gambia', 'Georgia',\n",
       "       'Ghana', 'Guatemala', 'Guinea', 'Guinea-Bissau', 'Haiti', 'India',\n",
       "       'Indonesia', 'Iran', 'Iraq', 'Jordan', 'Kazakhstan', 'Kenya',\n",
       "       'Kyrgyz Republic', 'Lao', 'Lesotho', 'Liberia', 'Libya',\n",
       "       'Macedonia, FYR', 'Madagascar', 'Malawi', 'Malaysia', 'Mali',\n",
       "       'Mauritania', 'Mauritius', 'Moldova', 'Mongolia', 'Montenegro',\n",
       "       'Morocco', 'Mozambique', 'Myanmar', 'Nepal', 'Niger', 'Nigeria',\n",
       "       'Oman', 'Pakistan', 'Paraguay', 'Peru', 'Philippines', 'Romania',\n",
       "       'Russia', 'Rwanda', 'Saudi Arabia', 'Senegal', 'Serbia',\n",
       "       'Sierra Leone', 'Sri Lanka', 'Sudan', 'Tajikistan', 'Tanzania',\n",
       "       'Thailand', 'Togo', 'Tunisia', 'Turkmenistan', 'Uganda', 'Ukraine',\n",
       "       'Uzbekistan', 'Vietnam', 'Yemen', 'Zambia'], dtype=object)"
      ]
     },
     "execution_count": 63,
     "metadata": {},
     "output_type": "execute_result"
    }
   ],
   "source": [
    "cluster_0 = clustered_data_hc[clustered_data_hc['cluster_id'] == 1]['country'].values\n",
    "cluster_0"
   ]
  },
  {
   "cell_type": "code",
   "execution_count": null,
   "id": "00edbab4",
   "metadata": {},
   "outputs": [],
   "source": []
  },
  {
   "cell_type": "markdown",
   "id": "e179f264",
   "metadata": {},
   "source": []
  },
  {
   "cell_type": "code",
   "execution_count": null,
   "id": "500a0ad5",
   "metadata": {},
   "outputs": [],
   "source": []
  }
 ],
 "metadata": {
  "kernelspec": {
   "display_name": "Python 3 (ipykernel)",
   "language": "python",
   "name": "python3"
  },
  "language_info": {
   "codemirror_mode": {
    "name": "ipython",
    "version": 3
   },
   "file_extension": ".py",
   "mimetype": "text/x-python",
   "name": "python",
   "nbconvert_exporter": "python",
   "pygments_lexer": "ipython3",
   "version": "3.9.7"
  }
 },
 "nbformat": 4,
 "nbformat_minor": 5
}
